{
 "cells": [
  {
   "cell_type": "code",
   "execution_count": 1,
   "id": "6c6af411",
   "metadata": {},
   "outputs": [
    {
     "name": "stdout",
     "output_type": "stream",
     "text": [
      "Selesai. Jumlah kata positif: 3609 dan negatif: 6607\n"
     ]
    }
   ],
   "source": [
    "import json\n",
    "import os\n",
    "\n",
    "def load_inset_tsv(positive_path, negative_path):\n",
    "    pos = {}\n",
    "    neg = {}\n",
    "    # baca positive\n",
    "    with open(positive_path, \"r\", encoding=\"utf-8\") as f:\n",
    "        for line in f:\n",
    "            parts = line.strip().split(\"\\t\")\n",
    "            if len(parts) >= 2:\n",
    "                word = parts[0].strip()\n",
    "                try:\n",
    "                    score = float(parts[1].strip())\n",
    "                except:\n",
    "                    continue\n",
    "                pos[word] = score\n",
    "    # baca negative\n",
    "    with open(negative_path, \"r\", encoding=\"utf-8\") as f:\n",
    "        for line in f:\n",
    "            parts = line.strip().split(\"\\t\")\n",
    "            if len(parts) >= 2:\n",
    "                word = parts[0].strip()\n",
    "                try:\n",
    "                    score = float(parts[1].strip())\n",
    "                except:\n",
    "                    continue\n",
    "                neg[word] = score\n",
    "    return pos, neg\n",
    "\n",
    "# Ganti path-nya sesuai lokasi file .tsv InSet Anda\n",
    "pos_dict, neg_dict = load_inset_tsv(\"positive.tsv\", \"negative.tsv\")\n",
    "\n",
    "inset_lexicon = {\n",
    "    \"positive\": pos_dict,\n",
    "    \"negative\": neg_dict\n",
    "}\n",
    "\n",
    "# Simpan ke JSON\n",
    "with open(\"inset_lexicon.json\", \"w\", encoding=\"utf-8\") as f:\n",
    "    json.dump(inset_lexicon, f, ensure_ascii=False, indent=2)\n",
    "\n",
    "print(\"Selesai. Jumlah kata positif:\", len(pos_dict), \"dan negatif:\", len(neg_dict))\n"
   ]
  }
 ],
 "metadata": {
  "kernelspec": {
   "display_name": "Python 3",
   "language": "python",
   "name": "python3"
  },
  "language_info": {
   "codemirror_mode": {
    "name": "ipython",
    "version": 3
   },
   "file_extension": ".py",
   "mimetype": "text/x-python",
   "name": "python",
   "nbconvert_exporter": "python",
   "pygments_lexer": "ipython3",
   "version": "3.10.7"
  }
 },
 "nbformat": 4,
 "nbformat_minor": 5
}
